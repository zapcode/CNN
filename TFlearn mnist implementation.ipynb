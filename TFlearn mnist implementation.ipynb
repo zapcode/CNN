{
 "cells": [
  {
   "cell_type": "code",
   "execution_count": 5,
   "metadata": {
    "collapsed": false
   },
   "outputs": [],
   "source": [
    "import tflearn\n",
    "import tflearn.datasets.mnist as mnist\n",
    "from   tflearn.layers.conv import conv_2d,max_pool_2d\n",
    "from   tflearn.layers.core import input_data,dropout,fully_connected\n",
    "from   tflearn.layers.estimator import regression"
   ]
  },
  {
   "cell_type": "code",
   "execution_count": 6,
   "metadata": {
    "collapsed": false
   },
   "outputs": [
    {
     "name": "stdout",
     "output_type": "stream",
     "text": [
      "Extracting mnist/train-images-idx3-ubyte.gz\n",
      "Extracting mnist/train-labels-idx1-ubyte.gz\n",
      "Extracting mnist/t10k-images-idx3-ubyte.gz\n",
      "Extracting mnist/t10k-labels-idx1-ubyte.gz\n"
     ]
    }
   ],
   "source": [
    "X,Y,test_x,test_y = mnist.load_data(one_hot = True)"
   ]
  },
  {
   "cell_type": "code",
   "execution_count": 7,
   "metadata": {
    "collapsed": true
   },
   "outputs": [],
   "source": [
    "X = X.reshape([-1,28,28,1])\n",
    "test_x= test_x.reshape([-1,28,28,1])"
   ]
  },
  {
   "cell_type": "code",
   "execution_count": 8,
   "metadata": {
    "collapsed": false
   },
   "outputs": [
    {
     "name": "stdout",
     "output_type": "stream",
     "text": [
      "Training Step: 8599  | total loss: \u001b[1m\u001b[32m0.03975\u001b[0m\u001b[0m | time: 68.616s\n",
      "| Adam | epoch: 010 | loss: 0.03975 - acc: 0.9880 -- iter: 54976/55000\n",
      "Training Step: 8600  | total loss: \u001b[1m\u001b[32m0.03583\u001b[0m\u001b[0m | time: 71.334s\n",
      "| Adam | epoch: 010 | loss: 0.03583 - acc: 0.9892 | val_loss: 0.09556 - val_acc: 0.9815 -- iter: 55000/55000\n",
      "--\n"
     ]
    }
   ],
   "source": [
    "convnet = input_data(shape = [None,28,28,1],name  ='Input')\n",
    "\n",
    "\n",
    "convnet = conv_2d(convnet,32,2,activation='relu')\n",
    "convnet = max_pool_2d(convnet,2)\n",
    "\n",
    "\n",
    "convnet = conv_2d(convnet,64,2,activation='relu')\n",
    "convnet = max_pool_2d(convnet,2)\n",
    "\n",
    "\n",
    "convnet = fully_connected(convnet,1024,activation = 'relu')\n",
    "convnet = dropout(convnet,0.8)\n",
    "\n",
    "\n",
    "convnet = fully_connected(convnet,10,activation = 'softmax')\n",
    "convnet = regression(convnet,optimizer = 'adam',learning_rate = 0.01,loss ='categorical_crossentropy' )\n",
    "\n",
    "\n",
    "model = tflearn.DNN(convnet)\n",
    "\n",
    "model.fit(X,Y,n_epoch = 10,\n",
    "          validation_set = (test_x,test_y),\n",
    "          snapshot_step = 500, show_metric =True , run_id ='mnist'\n",
    "         )\n",
    "\n"
   ]
  },
  {
   "cell_type": "code",
   "execution_count": null,
   "metadata": {
    "collapsed": true
   },
   "outputs": [],
   "source": []
  }
 ],
 "metadata": {
  "kernelspec": {
   "display_name": "Python [conda root]",
   "language": "python",
   "name": "conda-root-py"
  },
  "language_info": {
   "codemirror_mode": {
    "name": "ipython",
    "version": 2
   },
   "file_extension": ".py",
   "mimetype": "text/x-python",
   "name": "python",
   "nbconvert_exporter": "python",
   "pygments_lexer": "ipython2",
   "version": "2.7.12"
  }
 },
 "nbformat": 4,
 "nbformat_minor": 1
}
